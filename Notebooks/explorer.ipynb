{
 "cells": [
  {
   "cell_type": "code",
   "execution_count": 1,
   "metadata": {},
   "outputs": [],
   "source": [
    "from langgraph.graph import StateGraph, END\n",
    "from langchain_huggingface import ChatHuggingFace, HuggingFaceEndpoint\n",
    "from langchain_community.tools.tavily_search import TavilySearchResults\n",
    "from langgraph.prebuilt import ToolNode\n",
    "import os\n",
    "import json"
   ]
  },
  {
   "cell_type": "code",
   "execution_count": 2,
   "metadata": {},
   "outputs": [],
   "source": [
    "# Carregamento de credenciais\n",
    "with open('/mnt/c/Users/renan.cunha/OneDrive - ST IT Tecnologia e Serviços Ltda/Documentos/Renan/Desafio Tech Del/project_langchain_langgraph_chat/code/cred.json', 'r') as f:\n",
    "    credentials = json.load(f)\n",
    "os.environ[\"TAVILY_API_KEY\"] = credentials[\"tavily\"]\n",
    "os.environ[\"HUGGINGFACEHUB_API_TOKEN\"] = credentials[\"huggingface\"]"
   ]
  },
  {
   "cell_type": "code",
   "execution_count": 3,
   "metadata": {},
   "outputs": [
    {
     "name": "stderr",
     "output_type": "stream",
     "text": [
      "/home/renancunha/miniconda3/envs/deloite_env/lib/python3.12/site-packages/tqdm/auto.py:21: TqdmWarning: IProgress not found. Please update jupyter and ipywidgets. See https://ipywidgets.readthedocs.io/en/stable/user_install.html\n",
      "  from .autonotebook import tqdm as notebook_tqdm\n"
     ]
    }
   ],
   "source": [
    "# Configuração do modelo\n",
    "system_prompt = \"\"\"Você é um assistente artificial capaz de conversar sobre diversos assuntos, \n",
    "                    exceto Engenharia Civil. Se o usuário mencionar esse tema, informe que não pode ajudar.\"\"\"\n",
    "\n",
    "hf_endpoint = HuggingFaceEndpoint(\n",
    "    repo_id=\"HuggingFaceH4/zephyr-7b-beta\",\n",
    "    task=\"text-generation\",\n",
    "    max_new_tokens=512,\n",
    "    temperature=0.5\n",
    ")"
   ]
  },
  {
   "cell_type": "code",
   "execution_count": 4,
   "metadata": {},
   "outputs": [],
   "source": [
    "llm = ChatHuggingFace(llm=hf_endpoint)\n",
    "search_tool = TavilySearchResults(max_results=10)\n",
    "tools = [search_tool]\n",
    "llm_with_tools = llm.bind_tools(tools)\n",
    "\n",
    "graph_builder = StateGraph(dict)"
   ]
  },
  {
   "cell_type": "code",
   "execution_count": 5,
   "metadata": {},
   "outputs": [],
   "source": [
    "def chatbot_node(state):\n",
    "    messages = state[\"messages\"]\n",
    "    try:\n",
    "        response = llm_with_tools.invoke(messages)\n",
    "        print(f\"Resposta do modelo: {response}\")  # Debug\n",
    "        return {\"messages\": messages + [response]}\n",
    "    except Exception as e:\n",
    "        print(f\"Erro no modelo: {e}\")\n",
    "        return {\"messages\": messages + [{\"role\": \"assistant\", \"content\": f\"Erro: {e}\"}]}\n"
   ]
  },
  {
   "cell_type": "code",
   "execution_count": 6,
   "metadata": {},
   "outputs": [],
   "source": [
    "graph_builder.add_node(\"chatbot\", chatbot_node)\n",
    "\n",
    "tool_node = ToolNode(tools)\n",
    "graph_builder.add_node(\"tools\", tool_node)\n",
    "\n",
    "graph_builder.set_entry_point(\"chatbot\")\n",
    "graph_builder.add_edge(\"chatbot\", END)\n",
    "graph_builder.add_edge(\"tools\", \"chatbot\")\n",
    "\n",
    "graph = graph_builder.compile()"
   ]
  },
  {
   "cell_type": "code",
   "execution_count": 7,
   "metadata": {},
   "outputs": [],
   "source": [
    "def chat():\n",
    "    messages = [{\"role\": \"system\", \"content\": system_prompt}]\n",
    "    print(\"Assistente: Olá! Como posso ajudar você hoje? (Digite 'sair' para encerrar)\")\n",
    "    \n",
    "    while True:\n",
    "        user_input = input(\"Você: \")\n",
    "        if user_input.lower() == 'sair':\n",
    "            print(\"Assistente: Até logo!\")\n",
    "            break\n",
    "        \n",
    "        messages.append({\"role\": \"user\", \"content\": user_input})\n",
    "        \n",
    "        for event in graph.stream({\"messages\": messages}):\n",
    "            print(f\"Evento recebido: {event}\")  # Debug\n",
    "            if \"chatbot\" in event:\n",
    "                response = event[\"chatbot\"][\"messages\"][-1].content\n",
    "                print(f\"Resposta gerada: {response}\")  # Debug\n",
    "                print(f\"Assistente: {response}\")\n",
    "                messages.append({\"role\": \"assistant\", \"content\": response})\n",
    "                break"
   ]
  },
  {
   "cell_type": "code",
   "execution_count": 8,
   "metadata": {},
   "outputs": [
    {
     "name": "stdout",
     "output_type": "stream",
     "text": [
      "Resposta direta do modelo: content='' additional_kwargs={'tool_calls': [ChatCompletionOutputToolCall(function=ChatCompletionOutputFunctionDefinition(arguments={'query': 'qual é a capital do brasil?'}, name='tavily_search_results_json', description=None), id='0', type='function')]} response_metadata={'token_usage': ChatCompletionOutputUsage(completion_tokens=37, prompt_tokens=304, total_tokens=341), 'model': '', 'finish_reason': 'stop'} id='run-aa1c44f4-c665-4d4a-8f4d-ae7d5f04602a-0' tool_calls=[{'name': 'tavily_search_results_json', 'args': {'query': 'qual é a capital do brasil?'}, 'id': '0', 'type': 'tool_call'}]\n"
     ]
    }
   ],
   "source": [
    "messages = [\n",
    "    {\"role\": \"system\", \"content\": system_prompt},\n",
    "    {\"role\": \"user\", \"content\": \"Qual é a capital do Brasil?\"}\n",
    "]\n",
    "\n",
    "try:\n",
    "    response = llm_with_tools.invoke(messages)\n",
    "    print(f\"Resposta direta do modelo: {response}\")\n",
    "except Exception as e:\n",
    "    print(f\"Erro ao invocar o modelo diretamente: {e}\")\n"
   ]
  },
  {
   "cell_type": "code",
   "execution_count": null,
   "metadata": {},
   "outputs": [
    {
     "name": "stdout",
     "output_type": "stream",
     "text": [
      "Assistente: Olá! Como posso ajudar você hoje? (Digite 'sair' para encerrar)\n",
      "Assistente: \n",
      "Assistente: \n",
      "Assistente: \n",
      "Assistente: \n",
      "Assistente: \n",
      "Assistente: \n",
      "Assistente: \n"
     ]
    }
   ],
   "source": [
    "if __name__ == \"__main__\":\n",
    "    chat()"
   ]
  }
 ],
 "metadata": {
  "kernelspec": {
   "display_name": "deloite_env",
   "language": "python",
   "name": "python3"
  },
  "language_info": {
   "codemirror_mode": {
    "name": "ipython",
    "version": 3
   },
   "file_extension": ".py",
   "mimetype": "text/x-python",
   "name": "python",
   "nbconvert_exporter": "python",
   "pygments_lexer": "ipython3",
   "version": "3.12.8"
  }
 },
 "nbformat": 4,
 "nbformat_minor": 2
}
